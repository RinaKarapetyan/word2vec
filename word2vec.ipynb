{
 "cells": [
  {
   "cell_type": "code",
   "execution_count": null,
   "metadata": {
    "scrolled": true
   },
   "outputs": [],
   "source": [
    "! pip install gensim"
   ]
  },
  {
   "cell_type": "code",
   "execution_count": null,
   "metadata": {
    "scrolled": true
   },
   "outputs": [],
   "source": [
    "! pip install nltk"
   ]
  },
  {
   "cell_type": "code",
   "execution_count": null,
   "metadata": {
    "scrolled": true
   },
   "outputs": [],
   "source": [
    "! pip install pymystem3"
   ]
  },
  {
   "cell_type": "code",
   "execution_count": null,
   "metadata": {
    "scrolled": true
   },
   "outputs": [],
   "source": [
    "! pip install bs4"
   ]
  },
  {
   "cell_type": "code",
   "execution_count": 1,
   "metadata": {},
   "outputs": [
    {
     "name": "stderr",
     "output_type": "stream",
     "text": [
      "[nltk_data] Downloading package stopwords to\n",
      "[nltk_data]     C:\\Users\\Гриша\\AppData\\Roaming\\nltk_data...\n",
      "[nltk_data]   Package stopwords is already up-to-date!\n"
     ]
    }
   ],
   "source": [
    "import gensim\n",
    "import logging\n",
    "import nltk.data\n",
    "import os\n",
    "from sklearn.decomposition import PCA\n",
    "import matplotlib.pyplot as plt\n",
    "%matplotlib inline\n",
    "from nltk.corpus import stopwords\n",
    "nltk.download('stopwords')\n",
    "from gensim.models import word2vec\n",
    "from pymorphy2 import MorphAnalyzer\n",
    "from nltk.tokenize import word_tokenize\n",
    "from nltk.tokenize import sent_tokenize\n",
    "morph = MorphAnalyzer()\n",
    "import re\n",
    "punctuation = '!\"#$%&\\'()*+,-./:;<=>?@[\\\\]^_`{|}~—…»«'\n",
    "\n",
    "import warnings\n",
    "warnings.filterwarnings('ignore')"
   ]
  },
  {
   "cell_type": "code",
   "execution_count": 2,
   "metadata": {},
   "outputs": [],
   "source": [
    "logging.basicConfig(format='%(asctime)s : %(levelname)s : %(message)s', level=logging.INFO)"
   ]
  },
  {
   "cell_type": "code",
   "execution_count": 3,
   "metadata": {},
   "outputs": [
    {
     "name": "stdout",
     "output_type": "stream",
     "text": [
      "Wall time: 41.4 s\n"
     ]
    }
   ],
   "source": [
    "%%time\n",
    "with open('book_thief.txt', 'r') as f:\n",
    "    booktext = f.read()\n",
    "    booktext = booktext.lower()\n",
    "sents_raw = sent_tokenize(booktext)\n",
    "sents_n = []\n",
    "sents_l = []\n",
    "sw = stopwords.words('russian')\n",
    "for sent in sents_raw:\n",
    "    for i in punctuation:\n",
    "        sent = sent.replace(i, '')\n",
    "    sents_n.append(re.sub(r'\\n', ' ', sent))\n",
    "for sent in sents_n:\n",
    "    tokens = (word_tokenize(sent))   # делаю лемматизирование текста \n",
    "    for token in tokens:\n",
    "        annotation = morph.parse(token)\n",
    "        parse = annotation[0]\n",
    "        normal_form = parse.normal_form\n",
    "        sent = sent.replace(token, normal_form)\n",
    "    sents_l.append(sent)\n",
    "\n",
    "with open('book_thief_new.txt', 'w', encoding='utf-8') as f: # делаю новый файл для модели\n",
    "    for i in sents_l:\n",
    "        f.write(i + '\\n')"
   ]
  },
  {
   "cell_type": "code",
   "execution_count": 4,
   "metadata": {
    "scrolled": true
   },
   "outputs": [
    {
     "name": "stderr",
     "output_type": "stream",
     "text": [
      "2020-06-08 17:40:50,153 : INFO : collecting all words and their counts\n",
      "2020-06-08 17:40:50,164 : INFO : PROGRESS: at sentence #0, processed 0 words, keeping 0 word types\n",
      "2020-06-08 17:40:50,234 : INFO : PROGRESS: at sentence #10000, processed 88723 words, keeping 9965 word types\n",
      "2020-06-08 17:40:50,244 : INFO : collected 10596 word types from a corpus of 103414 raw words and 11587 sentences\n",
      "2020-06-08 17:40:50,245 : INFO : Loading a fresh vocabulary\n",
      "2020-06-08 17:40:50,256 : INFO : effective_min_count=5 retains 2405 unique words (22% of original 10596, drops 8191)\n",
      "2020-06-08 17:40:50,257 : INFO : effective_min_count=5 leaves 89994 word corpus (87% of original 103414, drops 13420)\n",
      "2020-06-08 17:40:50,267 : INFO : deleting the raw counts dictionary of 10596 items\n",
      "2020-06-08 17:40:50,268 : INFO : sample=0.001 downsamples 50 most-common words\n",
      "2020-06-08 17:40:50,268 : INFO : downsampling leaves estimated 65079 word corpus (72.3% of prior 89994)\n",
      "2020-06-08 17:40:50,275 : INFO : estimated required memory for 2405 words and 300 dimensions: 6974500 bytes\n",
      "2020-06-08 17:40:50,278 : INFO : resetting layer weights\n",
      "2020-06-08 17:40:50,966 : INFO : training model with 3 workers on 2405 vocabulary and 300 features, using sg=0 hs=0 sample=0.001 negative=5 window=5\n",
      "2020-06-08 17:40:51,229 : INFO : worker thread finished; awaiting finish of 2 more threads\n",
      "2020-06-08 17:40:51,239 : INFO : worker thread finished; awaiting finish of 1 more threads\n",
      "2020-06-08 17:40:51,242 : INFO : worker thread finished; awaiting finish of 0 more threads\n",
      "2020-06-08 17:40:51,243 : INFO : EPOCH - 1 : training on 103414 raw words (65127 effective words) took 0.3s, 237739 effective words/s\n",
      "2020-06-08 17:40:51,443 : INFO : worker thread finished; awaiting finish of 2 more threads\n",
      "2020-06-08 17:40:51,447 : INFO : worker thread finished; awaiting finish of 1 more threads\n",
      "2020-06-08 17:40:51,454 : INFO : worker thread finished; awaiting finish of 0 more threads\n",
      "2020-06-08 17:40:51,455 : INFO : EPOCH - 2 : training on 103414 raw words (65033 effective words) took 0.2s, 312006 effective words/s\n",
      "2020-06-08 17:40:51,659 : INFO : worker thread finished; awaiting finish of 2 more threads\n",
      "2020-06-08 17:40:51,665 : INFO : worker thread finished; awaiting finish of 1 more threads\n",
      "2020-06-08 17:40:51,666 : INFO : worker thread finished; awaiting finish of 0 more threads\n",
      "2020-06-08 17:40:51,667 : INFO : EPOCH - 3 : training on 103414 raw words (65055 effective words) took 0.2s, 312478 effective words/s\n",
      "2020-06-08 17:40:51,859 : INFO : worker thread finished; awaiting finish of 2 more threads\n",
      "2020-06-08 17:40:51,862 : INFO : worker thread finished; awaiting finish of 1 more threads\n",
      "2020-06-08 17:40:51,874 : INFO : worker thread finished; awaiting finish of 0 more threads\n",
      "2020-06-08 17:40:51,875 : INFO : EPOCH - 4 : training on 103414 raw words (65057 effective words) took 0.2s, 316967 effective words/s\n",
      "2020-06-08 17:40:52,077 : INFO : worker thread finished; awaiting finish of 2 more threads\n",
      "2020-06-08 17:40:52,086 : INFO : worker thread finished; awaiting finish of 1 more threads\n",
      "2020-06-08 17:40:52,105 : INFO : worker thread finished; awaiting finish of 0 more threads\n",
      "2020-06-08 17:40:52,106 : INFO : EPOCH - 5 : training on 103414 raw words (65175 effective words) took 0.2s, 286705 effective words/s\n",
      "2020-06-08 17:40:52,339 : INFO : worker thread finished; awaiting finish of 2 more threads\n",
      "2020-06-08 17:40:52,359 : INFO : worker thread finished; awaiting finish of 1 more threads\n",
      "2020-06-08 17:40:52,382 : INFO : worker thread finished; awaiting finish of 0 more threads\n",
      "2020-06-08 17:40:52,384 : INFO : EPOCH - 6 : training on 103414 raw words (65064 effective words) took 0.3s, 237366 effective words/s\n",
      "2020-06-08 17:40:52,607 : INFO : worker thread finished; awaiting finish of 2 more threads\n",
      "2020-06-08 17:40:52,612 : INFO : worker thread finished; awaiting finish of 1 more threads\n",
      "2020-06-08 17:40:52,619 : INFO : worker thread finished; awaiting finish of 0 more threads\n",
      "2020-06-08 17:40:52,620 : INFO : EPOCH - 7 : training on 103414 raw words (65026 effective words) took 0.2s, 280205 effective words/s\n",
      "2020-06-08 17:40:52,838 : INFO : worker thread finished; awaiting finish of 2 more threads\n",
      "2020-06-08 17:40:52,855 : INFO : worker thread finished; awaiting finish of 1 more threads\n",
      "2020-06-08 17:40:52,881 : INFO : worker thread finished; awaiting finish of 0 more threads\n",
      "2020-06-08 17:40:52,883 : INFO : EPOCH - 8 : training on 103414 raw words (65139 effective words) took 0.3s, 251302 effective words/s\n",
      "2020-06-08 17:40:53,191 : INFO : worker thread finished; awaiting finish of 2 more threads\n",
      "2020-06-08 17:40:53,213 : INFO : worker thread finished; awaiting finish of 1 more threads\n",
      "2020-06-08 17:40:53,238 : INFO : worker thread finished; awaiting finish of 0 more threads\n",
      "2020-06-08 17:40:53,239 : INFO : EPOCH - 9 : training on 103414 raw words (65112 effective words) took 0.3s, 186167 effective words/s\n",
      "2020-06-08 17:40:53,464 : INFO : worker thread finished; awaiting finish of 2 more threads\n",
      "2020-06-08 17:40:53,474 : INFO : worker thread finished; awaiting finish of 1 more threads\n",
      "2020-06-08 17:40:53,500 : INFO : worker thread finished; awaiting finish of 0 more threads\n",
      "2020-06-08 17:40:53,501 : INFO : EPOCH - 10 : training on 103414 raw words (65080 effective words) took 0.3s, 251689 effective words/s\n",
      "2020-06-08 17:40:53,749 : INFO : worker thread finished; awaiting finish of 2 more threads\n",
      "2020-06-08 17:40:53,751 : INFO : worker thread finished; awaiting finish of 1 more threads\n",
      "2020-06-08 17:40:53,765 : INFO : worker thread finished; awaiting finish of 0 more threads\n",
      "2020-06-08 17:40:53,767 : INFO : EPOCH - 11 : training on 103414 raw words (65163 effective words) took 0.3s, 249033 effective words/s\n",
      "2020-06-08 17:40:53,957 : INFO : worker thread finished; awaiting finish of 2 more threads\n",
      "2020-06-08 17:40:53,970 : INFO : worker thread finished; awaiting finish of 1 more threads\n",
      "2020-06-08 17:40:53,971 : INFO : worker thread finished; awaiting finish of 0 more threads\n",
      "2020-06-08 17:40:53,973 : INFO : EPOCH - 12 : training on 103414 raw words (65108 effective words) took 0.2s, 323775 effective words/s\n",
      "2020-06-08 17:40:54,214 : INFO : worker thread finished; awaiting finish of 2 more threads\n",
      "2020-06-08 17:40:54,231 : INFO : worker thread finished; awaiting finish of 1 more threads\n",
      "2020-06-08 17:40:54,238 : INFO : worker thread finished; awaiting finish of 0 more threads\n",
      "2020-06-08 17:40:54,240 : INFO : EPOCH - 13 : training on 103414 raw words (65069 effective words) took 0.3s, 246807 effective words/s\n",
      "2020-06-08 17:40:54,525 : INFO : worker thread finished; awaiting finish of 2 more threads\n",
      "2020-06-08 17:40:54,528 : INFO : worker thread finished; awaiting finish of 1 more threads\n",
      "2020-06-08 17:40:54,533 : INFO : worker thread finished; awaiting finish of 0 more threads\n",
      "2020-06-08 17:40:54,534 : INFO : EPOCH - 14 : training on 103414 raw words (65130 effective words) took 0.3s, 224174 effective words/s\n",
      "2020-06-08 17:40:54,741 : INFO : worker thread finished; awaiting finish of 2 more threads\n",
      "2020-06-08 17:40:54,743 : INFO : worker thread finished; awaiting finish of 1 more threads\n",
      "2020-06-08 17:40:54,746 : INFO : worker thread finished; awaiting finish of 0 more threads\n",
      "2020-06-08 17:40:54,747 : INFO : EPOCH - 15 : training on 103414 raw words (65118 effective words) took 0.2s, 310784 effective words/s\n",
      "2020-06-08 17:40:54,972 : INFO : worker thread finished; awaiting finish of 2 more threads\n",
      "2020-06-08 17:40:54,984 : INFO : worker thread finished; awaiting finish of 1 more threads\n",
      "2020-06-08 17:40:55,007 : INFO : worker thread finished; awaiting finish of 0 more threads\n",
      "2020-06-08 17:40:55,008 : INFO : EPOCH - 16 : training on 103414 raw words (65179 effective words) took 0.3s, 253861 effective words/s\n",
      "2020-06-08 17:40:55,246 : INFO : worker thread finished; awaiting finish of 2 more threads\n",
      "2020-06-08 17:40:55,258 : INFO : worker thread finished; awaiting finish of 1 more threads\n",
      "2020-06-08 17:40:55,275 : INFO : worker thread finished; awaiting finish of 0 more threads\n",
      "2020-06-08 17:40:55,276 : INFO : EPOCH - 17 : training on 103414 raw words (64955 effective words) took 0.3s, 247958 effective words/s\n",
      "2020-06-08 17:40:55,466 : INFO : worker thread finished; awaiting finish of 2 more threads\n",
      "2020-06-08 17:40:55,481 : INFO : worker thread finished; awaiting finish of 1 more threads\n",
      "2020-06-08 17:40:55,498 : INFO : worker thread finished; awaiting finish of 0 more threads\n",
      "2020-06-08 17:40:55,499 : INFO : EPOCH - 18 : training on 103414 raw words (65130 effective words) took 0.2s, 297920 effective words/s\n",
      "2020-06-08 17:40:55,746 : INFO : worker thread finished; awaiting finish of 2 more threads\n",
      "2020-06-08 17:40:55,748 : INFO : worker thread finished; awaiting finish of 1 more threads\n",
      "2020-06-08 17:40:55,763 : INFO : worker thread finished; awaiting finish of 0 more threads\n",
      "2020-06-08 17:40:55,764 : INFO : EPOCH - 19 : training on 103414 raw words (65139 effective words) took 0.3s, 250013 effective words/s\n",
      "2020-06-08 17:40:55,992 : INFO : worker thread finished; awaiting finish of 2 more threads\n",
      "2020-06-08 17:40:56,004 : INFO : worker thread finished; awaiting finish of 1 more threads\n",
      "2020-06-08 17:40:56,029 : INFO : worker thread finished; awaiting finish of 0 more threads\n",
      "2020-06-08 17:40:56,030 : INFO : EPOCH - 20 : training on 103414 raw words (65065 effective words) took 0.3s, 248686 effective words/s\n",
      "2020-06-08 17:40:56,313 : INFO : worker thread finished; awaiting finish of 2 more threads\n",
      "2020-06-08 17:40:56,324 : INFO : worker thread finished; awaiting finish of 1 more threads\n",
      "2020-06-08 17:40:56,354 : INFO : worker thread finished; awaiting finish of 0 more threads\n",
      "2020-06-08 17:40:56,355 : INFO : EPOCH - 21 : training on 103414 raw words (65280 effective words) took 0.3s, 203535 effective words/s\n",
      "2020-06-08 17:40:56,574 : INFO : worker thread finished; awaiting finish of 2 more threads\n",
      "2020-06-08 17:40:56,577 : INFO : worker thread finished; awaiting finish of 1 more threads\n",
      "2020-06-08 17:40:56,596 : INFO : worker thread finished; awaiting finish of 0 more threads\n",
      "2020-06-08 17:40:56,597 : INFO : EPOCH - 22 : training on 103414 raw words (65226 effective words) took 0.2s, 273978 effective words/s\n",
      "2020-06-08 17:40:56,837 : INFO : worker thread finished; awaiting finish of 2 more threads\n",
      "2020-06-08 17:40:56,838 : INFO : worker thread finished; awaiting finish of 1 more threads\n",
      "2020-06-08 17:40:56,863 : INFO : worker thread finished; awaiting finish of 0 more threads\n",
      "2020-06-08 17:40:56,865 : INFO : EPOCH - 23 : training on 103414 raw words (65009 effective words) took 0.3s, 247785 effective words/s\n",
      "2020-06-08 17:40:57,054 : INFO : worker thread finished; awaiting finish of 2 more threads\n",
      "2020-06-08 17:40:57,061 : INFO : worker thread finished; awaiting finish of 1 more threads\n",
      "2020-06-08 17:40:57,079 : INFO : worker thread finished; awaiting finish of 0 more threads\n",
      "2020-06-08 17:40:57,080 : INFO : EPOCH - 24 : training on 103414 raw words (64970 effective words) took 0.2s, 308280 effective words/s\n",
      "2020-06-08 17:40:57,278 : INFO : worker thread finished; awaiting finish of 2 more threads\n",
      "2020-06-08 17:40:57,280 : INFO : worker thread finished; awaiting finish of 1 more threads\n",
      "2020-06-08 17:40:57,283 : INFO : worker thread finished; awaiting finish of 0 more threads\n",
      "2020-06-08 17:40:57,284 : INFO : EPOCH - 25 : training on 103414 raw words (65036 effective words) took 0.2s, 325817 effective words/s\n",
      "2020-06-08 17:40:57,505 : INFO : worker thread finished; awaiting finish of 2 more threads\n",
      "2020-06-08 17:40:57,507 : INFO : worker thread finished; awaiting finish of 1 more threads\n",
      "2020-06-08 17:40:57,520 : INFO : worker thread finished; awaiting finish of 0 more threads\n",
      "2020-06-08 17:40:57,521 : INFO : EPOCH - 26 : training on 103414 raw words (65150 effective words) took 0.2s, 279385 effective words/s\n",
      "2020-06-08 17:40:57,741 : INFO : worker thread finished; awaiting finish of 2 more threads\n",
      "2020-06-08 17:40:57,743 : INFO : worker thread finished; awaiting finish of 1 more threads\n",
      "2020-06-08 17:40:57,764 : INFO : worker thread finished; awaiting finish of 0 more threads\n",
      "2020-06-08 17:40:57,766 : INFO : EPOCH - 27 : training on 103414 raw words (65152 effective words) took 0.2s, 270053 effective words/s\n",
      "2020-06-08 17:40:58,007 : INFO : worker thread finished; awaiting finish of 2 more threads\n",
      "2020-06-08 17:40:58,009 : INFO : worker thread finished; awaiting finish of 1 more threads\n",
      "2020-06-08 17:40:58,023 : INFO : worker thread finished; awaiting finish of 0 more threads\n",
      "2020-06-08 17:40:58,025 : INFO : EPOCH - 28 : training on 103414 raw words (65112 effective words) took 0.3s, 256384 effective words/s\n",
      "2020-06-08 17:40:58,260 : INFO : worker thread finished; awaiting finish of 2 more threads\n",
      "2020-06-08 17:40:58,264 : INFO : worker thread finished; awaiting finish of 1 more threads\n",
      "2020-06-08 17:40:58,287 : INFO : worker thread finished; awaiting finish of 0 more threads\n",
      "2020-06-08 17:40:58,289 : INFO : EPOCH - 29 : training on 103414 raw words (65227 effective words) took 0.3s, 252090 effective words/s\n",
      "2020-06-08 17:40:58,504 : INFO : worker thread finished; awaiting finish of 2 more threads\n",
      "2020-06-08 17:40:58,515 : INFO : worker thread finished; awaiting finish of 1 more threads\n",
      "2020-06-08 17:40:58,534 : INFO : worker thread finished; awaiting finish of 0 more threads\n",
      "2020-06-08 17:40:58,535 : INFO : EPOCH - 30 : training on 103414 raw words (65143 effective words) took 0.2s, 268395 effective words/s\n",
      "2020-06-08 17:40:58,722 : INFO : worker thread finished; awaiting finish of 2 more threads\n",
      "2020-06-08 17:40:58,725 : INFO : worker thread finished; awaiting finish of 1 more threads\n",
      "2020-06-08 17:40:58,750 : INFO : worker thread finished; awaiting finish of 0 more threads\n",
      "2020-06-08 17:40:58,751 : INFO : EPOCH - 31 : training on 103414 raw words (65176 effective words) took 0.2s, 306858 effective words/s\n",
      "2020-06-08 17:40:58,940 : INFO : worker thread finished; awaiting finish of 2 more threads\n",
      "2020-06-08 17:40:58,941 : INFO : worker thread finished; awaiting finish of 1 more threads\n",
      "2020-06-08 17:40:58,960 : INFO : worker thread finished; awaiting finish of 0 more threads\n",
      "2020-06-08 17:40:58,961 : INFO : EPOCH - 32 : training on 103414 raw words (65105 effective words) took 0.2s, 314343 effective words/s\n",
      "2020-06-08 17:40:59,142 : INFO : worker thread finished; awaiting finish of 2 more threads\n",
      "2020-06-08 17:40:59,158 : INFO : worker thread finished; awaiting finish of 1 more threads\n",
      "2020-06-08 17:40:59,179 : INFO : worker thread finished; awaiting finish of 0 more threads\n",
      "2020-06-08 17:40:59,180 : INFO : EPOCH - 33 : training on 103414 raw words (65195 effective words) took 0.2s, 304928 effective words/s\n",
      "2020-06-08 17:40:59,392 : INFO : worker thread finished; awaiting finish of 2 more threads\n",
      "2020-06-08 17:40:59,397 : INFO : worker thread finished; awaiting finish of 1 more threads\n",
      "2020-06-08 17:40:59,412 : INFO : worker thread finished; awaiting finish of 0 more threads\n",
      "2020-06-08 17:40:59,414 : INFO : EPOCH - 34 : training on 103414 raw words (65054 effective words) took 0.2s, 282884 effective words/s\n",
      "2020-06-08 17:40:59,701 : INFO : worker thread finished; awaiting finish of 2 more threads\n",
      "2020-06-08 17:40:59,716 : INFO : worker thread finished; awaiting finish of 1 more threads\n",
      "2020-06-08 17:40:59,725 : INFO : worker thread finished; awaiting finish of 0 more threads\n",
      "2020-06-08 17:40:59,727 : INFO : EPOCH - 35 : training on 103414 raw words (65128 effective words) took 0.3s, 212180 effective words/s\n",
      "2020-06-08 17:40:59,980 : INFO : worker thread finished; awaiting finish of 2 more threads\n",
      "2020-06-08 17:40:59,989 : INFO : worker thread finished; awaiting finish of 1 more threads\n",
      "2020-06-08 17:40:59,991 : INFO : worker thread finished; awaiting finish of 0 more threads\n",
      "2020-06-08 17:40:59,993 : INFO : EPOCH - 36 : training on 103414 raw words (65180 effective words) took 0.3s, 251430 effective words/s\n",
      "2020-06-08 17:41:00,229 : INFO : worker thread finished; awaiting finish of 2 more threads\n",
      "2020-06-08 17:41:00,242 : INFO : worker thread finished; awaiting finish of 1 more threads\n",
      "2020-06-08 17:41:00,268 : INFO : worker thread finished; awaiting finish of 0 more threads\n",
      "2020-06-08 17:41:00,269 : INFO : EPOCH - 37 : training on 103414 raw words (65080 effective words) took 0.3s, 238564 effective words/s\n",
      "2020-06-08 17:41:00,529 : INFO : worker thread finished; awaiting finish of 2 more threads\n",
      "2020-06-08 17:41:00,547 : INFO : worker thread finished; awaiting finish of 1 more threads\n",
      "2020-06-08 17:41:00,563 : INFO : worker thread finished; awaiting finish of 0 more threads\n",
      "2020-06-08 17:41:00,567 : INFO : EPOCH - 38 : training on 103414 raw words (65162 effective words) took 0.3s, 221847 effective words/s\n",
      "2020-06-08 17:41:00,824 : INFO : worker thread finished; awaiting finish of 2 more threads\n",
      "2020-06-08 17:41:00,837 : INFO : worker thread finished; awaiting finish of 1 more threads\n",
      "2020-06-08 17:41:00,854 : INFO : worker thread finished; awaiting finish of 0 more threads\n",
      "2020-06-08 17:41:00,855 : INFO : EPOCH - 39 : training on 103414 raw words (65082 effective words) took 0.3s, 228782 effective words/s\n",
      "2020-06-08 17:41:01,146 : INFO : worker thread finished; awaiting finish of 2 more threads\n",
      "2020-06-08 17:41:01,152 : INFO : worker thread finished; awaiting finish of 1 more threads\n",
      "2020-06-08 17:41:01,168 : INFO : worker thread finished; awaiting finish of 0 more threads\n",
      "2020-06-08 17:41:01,170 : INFO : EPOCH - 40 : training on 103414 raw words (65054 effective words) took 0.3s, 209230 effective words/s\n",
      "2020-06-08 17:41:01,396 : INFO : worker thread finished; awaiting finish of 2 more threads\n",
      "2020-06-08 17:41:01,406 : INFO : worker thread finished; awaiting finish of 1 more threads\n",
      "2020-06-08 17:41:01,423 : INFO : worker thread finished; awaiting finish of 0 more threads\n",
      "2020-06-08 17:41:01,424 : INFO : EPOCH - 41 : training on 103414 raw words (65130 effective words) took 0.2s, 260781 effective words/s\n",
      "2020-06-08 17:41:01,668 : INFO : worker thread finished; awaiting finish of 2 more threads\n",
      "2020-06-08 17:41:01,678 : INFO : worker thread finished; awaiting finish of 1 more threads\n",
      "2020-06-08 17:41:01,697 : INFO : worker thread finished; awaiting finish of 0 more threads\n",
      "2020-06-08 17:41:01,698 : INFO : EPOCH - 42 : training on 103414 raw words (65065 effective words) took 0.3s, 239845 effective words/s\n",
      "2020-06-08 17:41:01,965 : INFO : worker thread finished; awaiting finish of 2 more threads\n",
      "2020-06-08 17:41:01,976 : INFO : worker thread finished; awaiting finish of 1 more threads\n",
      "2020-06-08 17:41:01,991 : INFO : worker thread finished; awaiting finish of 0 more threads\n",
      "2020-06-08 17:41:01,992 : INFO : EPOCH - 43 : training on 103414 raw words (65035 effective words) took 0.3s, 223835 effective words/s\n",
      "2020-06-08 17:41:02,234 : INFO : worker thread finished; awaiting finish of 2 more threads\n",
      "2020-06-08 17:41:02,236 : INFO : worker thread finished; awaiting finish of 1 more threads\n",
      "2020-06-08 17:41:02,258 : INFO : worker thread finished; awaiting finish of 0 more threads\n",
      "2020-06-08 17:41:02,259 : INFO : EPOCH - 44 : training on 103414 raw words (65112 effective words) took 0.3s, 246414 effective words/s\n",
      "2020-06-08 17:41:02,531 : INFO : worker thread finished; awaiting finish of 2 more threads\n",
      "2020-06-08 17:41:02,545 : INFO : worker thread finished; awaiting finish of 1 more threads\n",
      "2020-06-08 17:41:02,577 : INFO : worker thread finished; awaiting finish of 0 more threads\n",
      "2020-06-08 17:41:02,579 : INFO : EPOCH - 45 : training on 103414 raw words (65229 effective words) took 0.3s, 209858 effective words/s\n",
      "2020-06-08 17:41:02,864 : INFO : worker thread finished; awaiting finish of 2 more threads\n",
      "2020-06-08 17:41:02,876 : INFO : worker thread finished; awaiting finish of 1 more threads\n",
      "2020-06-08 17:41:02,882 : INFO : worker thread finished; awaiting finish of 0 more threads\n",
      "2020-06-08 17:41:02,886 : INFO : EPOCH - 46 : training on 103414 raw words (65205 effective words) took 0.3s, 217544 effective words/s\n",
      "2020-06-08 17:41:03,130 : INFO : worker thread finished; awaiting finish of 2 more threads\n",
      "2020-06-08 17:41:03,138 : INFO : worker thread finished; awaiting finish of 1 more threads\n",
      "2020-06-08 17:41:03,157 : INFO : worker thread finished; awaiting finish of 0 more threads\n",
      "2020-06-08 17:41:03,158 : INFO : EPOCH - 47 : training on 103414 raw words (65072 effective words) took 0.3s, 242454 effective words/s\n",
      "2020-06-08 17:41:03,389 : INFO : worker thread finished; awaiting finish of 2 more threads\n",
      "2020-06-08 17:41:03,395 : INFO : worker thread finished; awaiting finish of 1 more threads\n",
      "2020-06-08 17:41:03,412 : INFO : worker thread finished; awaiting finish of 0 more threads\n",
      "2020-06-08 17:41:03,413 : INFO : EPOCH - 48 : training on 103414 raw words (65122 effective words) took 0.3s, 257924 effective words/s\n",
      "2020-06-08 17:41:03,656 : INFO : worker thread finished; awaiting finish of 2 more threads\n",
      "2020-06-08 17:41:03,670 : INFO : worker thread finished; awaiting finish of 1 more threads\n",
      "2020-06-08 17:41:03,688 : INFO : worker thread finished; awaiting finish of 0 more threads\n",
      "2020-06-08 17:41:03,689 : INFO : EPOCH - 49 : training on 103414 raw words (65056 effective words) took 0.3s, 240944 effective words/s\n",
      "2020-06-08 17:41:03,906 : INFO : worker thread finished; awaiting finish of 2 more threads\n",
      "2020-06-08 17:41:03,912 : INFO : worker thread finished; awaiting finish of 1 more threads\n",
      "2020-06-08 17:41:03,922 : INFO : worker thread finished; awaiting finish of 0 more threads\n",
      "2020-06-08 17:41:03,923 : INFO : EPOCH - 50 : training on 103414 raw words (64874 effective words) took 0.2s, 280750 effective words/s\n",
      "2020-06-08 17:41:03,924 : INFO : training on a 5170700 raw words (3255345 effective words) took 13.0s, 251231 effective words/s\n",
      "2020-06-08 17:41:03,925 : INFO : precomputing L2-norms of word weight vectors\n",
      "2020-06-08 17:41:03,931 : INFO : storing 2405x300 projection weights into zusak.bin\n"
     ]
    },
    {
     "name": "stdout",
     "output_type": "stream",
     "text": [
      "Wall time: 13.8 s\n",
      "end\n",
      "Saving model...\n",
      "Wall time: 18 ms\n"
     ]
    }
   ],
   "source": [
    "f = 'book_thief_new.txt'\n",
    "data = gensim.models.word2vec.LineSentence(f)\n",
    "%time model_zusak = gensim.models.Word2Vec(data, size=300, window=5, min_count=5, iter=50)\n",
    "print('end')\n",
    "model_zusak.init_sims(replace=True)\n",
    "model_path = \"zusak.bin\"\n",
    "\n",
    "print(\"Saving model...\")\n",
    "%time model_zusak.wv.save_word2vec_format(model_path, binary=True)"
   ]
  },
  {
   "cell_type": "code",
   "execution_count": 5,
   "metadata": {},
   "outputs": [
    {
     "name": "stdout",
     "output_type": "stream",
     "text": [
      "Количество слов в модели:  2405\n"
     ]
    }
   ],
   "source": [
    "print('Количество слов в модели: ', len(model_zusak.wv.vocab))"
   ]
  },
  {
   "cell_type": "code",
   "execution_count": 15,
   "metadata": {},
   "outputs": [
    {
     "data": {
      "text/plain": [
       "[('•', 0.6814246773719788),\n",
       " ('курить', 0.6594505906105042),\n",
       " ('saumensch', 0.6591594815254211),\n",
       " ('вправду', 0.6492607593536377),\n",
       " ('чемтый', 0.6488664746284485)]"
      ]
     },
     "execution_count": 15,
     "metadata": {},
     "output_type": "execute_result"
    }
   ],
   "source": [
    "model_zusak.wv.most_similar('свинья', topn=5) # животное"
   ]
  },
  {
   "cell_type": "code",
   "execution_count": 14,
   "metadata": {},
   "outputs": [
    {
     "data": {
      "text/plain": [
       "[('добраться', 0.6261947154998779),\n",
       " ('потребоваться', 0.5917940735816956),\n",
       " ('дошлый', 0.589259922504425),\n",
       " ('станция', 0.5751675963401794),\n",
       " ('сей', 0.5713270902633667)]"
      ]
     },
     "execution_count": 14,
     "metadata": {},
     "output_type": "execute_result"
    }
   ],
   "source": [
    "model_zusak.wv.most_similar('смерть', topn=5) # абстрактное понятие"
   ]
  },
  {
   "cell_type": "code",
   "execution_count": 9,
   "metadata": {},
   "outputs": [
    {
     "data": {
      "text/plain": [
       "[('карман', 0.6150532960891724)]"
      ]
     },
     "execution_count": 9,
     "metadata": {},
     "output_type": "execute_result"
    }
   ],
   "source": [
    "model_zusak.wv.most_similar(positive=['книга', 'магазин'], negative=['человек'], topn=1) # семантическая пропорция"
   ]
  },
  {
   "cell_type": "code",
   "execution_count": 10,
   "metadata": {},
   "outputs": [
    {
     "data": {
      "text/plain": [
       "'улица'"
      ]
     },
     "execution_count": 10,
     "metadata": {},
     "output_type": "execute_result"
    }
   ],
   "source": [
    "model_zusak.wv.doesnt_match('улица война смерть книга небо'.split())"
   ]
  },
  {
   "cell_type": "code",
   "execution_count": 11,
   "metadata": {},
   "outputs": [
    {
     "data": {
      "image/png": "[encoded data removed]",
      "text/plain": [
       "<Figure size 432x288 with 1 Axes>"
      ]
     },
     "metadata": {
      "needs_background": "light"
     },
     "output_type": "display_data"
    }
   ],
   "source": [
    "words = ['смерть', 'свинья', 'еврей', 'война', 'лизель', 'вор', 'цвета']\n",
    "X = model_zusak[words]\n",
    "pca = PCA(n_components=2)\n",
    "coords = pca.fit_transform(X)\n",
    "plt.scatter(coords[:, 0], coords[:, 1], color='blue')\n",
    "plt.title('Words')\n",
    "\n",
    "for i, word in enumerate(words):\n",
    "    plt.annotate(word, xy=(coords[i, 0], coords[i, 1]))\n",
    "plt.show()"
   ]
  },
  {
   "cell_type": "code",
   "execution_count": null,
   "metadata": {},
   "outputs": [],
   "source": [
    "old_sent = 'когда люди умирют, небо меняет цвет, мой любимый цвет коричневый'\n",
    "new_sent = ''\n",
    "for i in punctuation:  # уберем знаки препинания чтобы не мешались\n",
    "    old_sent = old_sent.replace(i, '') \n",
    "print('Старое предложениее:\\n', old_sent)\n",
    "words = old_sent.split()\n",
    "sw = stopwords.words('russian')  # будем пропускать стоп-слова, остальные заменять на самое похожее в модели\n",
    "\n",
    "\n",
    "for w in words:\n",
    "    annotation = morph.parse(w)\n",
    "    parse = annotation[0]\n",
    "    nf = parse.normal_form\n",
    "    if (nf not in model_zusak.wv.vocab) or (nf in sw):\n",
    "        most_sim = w\n",
    "    else:\n",
    "        most_sim = model_zusak.wv.most_similar(nf, topn=1)\n",
    "        most_sim = most_sim[0][0]\n",
    "    new_sent += most_sim + ' '\n",
    "print('Новое предложение:\\n', new_sent)"
   ]
  }
 ],
 "metadata": {
  "kernelspec": {
   "display_name": "Python 3",
   "language": "python",
   "name": "python3"
  }
 },
 "nbformat": 4,
 "nbformat_minor": 2
}
